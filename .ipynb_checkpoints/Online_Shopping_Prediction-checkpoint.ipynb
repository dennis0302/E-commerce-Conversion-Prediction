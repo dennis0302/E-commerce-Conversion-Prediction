{
 "cells": [
  {
   "cell_type": "markdown",
   "metadata": {},
   "source": [
    "## Goal: The owner of an online shop wants to increase revenues. In particular, the owner is interested in making accurate predictions on whether her online customer will end up purchasing products."
   ]
  },
  {
   "cell_type": "code",
   "execution_count": 1,
   "metadata": {
    "id": "_AIKDD5FSIbc"
   },
   "outputs": [],
   "source": [
    "import numpy as np \n",
    "import pandas as pd \n",
    "import io\n",
    "from scipy import stats\n",
    "import xgboost\n",
    "from xgboost import XGBClassifier\n",
    "from sklearn.model_selection import RandomizedSearchCV, KFold\n",
    "from sklearn.metrics import roc_auc_score\n",
    "from matplotlib import pyplot as plt\n",
    "%matplotlib inline  \n",
    "import seaborn as sns"
   ]
  },
  {
   "cell_type": "code",
   "execution_count": 2,
   "metadata": {
    "id": "cpmGptb4Snmp"
   },
   "outputs": [],
   "source": [
    "train_df = pd.read_csv(\"online_shop_train.csv\")\n",
    "test_df = pd.read_csv(\"online_shop_test_final.csv\")"
   ]
  },
  {
   "cell_type": "markdown",
   "metadata": {},
   "source": [
    "### First, let's take a look at how the data looks like."
   ]
  },
  {
   "cell_type": "code",
   "execution_count": 3,
   "metadata": {
    "colab": {
     "base_uri": "https://localhost:8080/",
     "height": 439
    },
    "id": "uDSGiSHHSuxz",
    "outputId": "10b5fd9b-0aad-4bd6-8600-ffd16372c9c1"
   },
   "outputs": [
    {
     "data": {
      "text/html": [
       "<div>\n",
       "<style scoped>\n",
       "    .dataframe tbody tr th:only-of-type {\n",
       "        vertical-align: middle;\n",
       "    }\n",
       "\n",
       "    .dataframe tbody tr th {\n",
       "        vertical-align: top;\n",
       "    }\n",
       "\n",
       "    .dataframe thead th {\n",
       "        text-align: right;\n",
       "    }\n",
       "</style>\n",
       "<table border=\"1\" class=\"dataframe\">\n",
       "  <thead>\n",
       "    <tr style=\"text-align: right;\">\n",
       "      <th></th>\n",
       "      <th>ID</th>\n",
       "      <th>Administrative</th>\n",
       "      <th>Administrative_Duration</th>\n",
       "      <th>Informational</th>\n",
       "      <th>Informational_Duration</th>\n",
       "      <th>ProductRelated</th>\n",
       "      <th>ProductRelated_Duration</th>\n",
       "      <th>BounceRates</th>\n",
       "      <th>ExitRates</th>\n",
       "      <th>PageValues</th>\n",
       "      <th>SpecialDay</th>\n",
       "      <th>Month</th>\n",
       "      <th>OperatingSystems</th>\n",
       "      <th>Browser</th>\n",
       "      <th>Region</th>\n",
       "      <th>TrafficType</th>\n",
       "      <th>VisitorType</th>\n",
       "      <th>Weekend</th>\n",
       "      <th>Revenue</th>\n",
       "    </tr>\n",
       "  </thead>\n",
       "  <tbody>\n",
       "    <tr>\n",
       "      <th>0</th>\n",
       "      <td>3935</td>\n",
       "      <td>1.0</td>\n",
       "      <td>50.333333</td>\n",
       "      <td>0.0</td>\n",
       "      <td>0.0</td>\n",
       "      <td>21.0</td>\n",
       "      <td>586.189286</td>\n",
       "      <td>0.000000</td>\n",
       "      <td>0.005556</td>\n",
       "      <td>0.0</td>\n",
       "      <td>0.6</td>\n",
       "      <td>May</td>\n",
       "      <td>1</td>\n",
       "      <td>1</td>\n",
       "      <td>1</td>\n",
       "      <td>2</td>\n",
       "      <td>Returning_Visitor</td>\n",
       "      <td>0</td>\n",
       "      <td>0</td>\n",
       "    </tr>\n",
       "    <tr>\n",
       "      <th>1</th>\n",
       "      <td>7866</td>\n",
       "      <td>6.0</td>\n",
       "      <td>299.000000</td>\n",
       "      <td>1.0</td>\n",
       "      <td>41.0</td>\n",
       "      <td>36.0</td>\n",
       "      <td>696.402778</td>\n",
       "      <td>0.000000</td>\n",
       "      <td>0.002632</td>\n",
       "      <td>0.0</td>\n",
       "      <td>0.0</td>\n",
       "      <td>May</td>\n",
       "      <td>2</td>\n",
       "      <td>2</td>\n",
       "      <td>2</td>\n",
       "      <td>4</td>\n",
       "      <td>New_Visitor</td>\n",
       "      <td>1</td>\n",
       "      <td>0</td>\n",
       "    </tr>\n",
       "    <tr>\n",
       "      <th>2</th>\n",
       "      <td>3727</td>\n",
       "      <td>0.0</td>\n",
       "      <td>0.000000</td>\n",
       "      <td>0.0</td>\n",
       "      <td>0.0</td>\n",
       "      <td>19.0</td>\n",
       "      <td>620.033333</td>\n",
       "      <td>0.000000</td>\n",
       "      <td>0.007895</td>\n",
       "      <td>0.0</td>\n",
       "      <td>0.0</td>\n",
       "      <td>Feb</td>\n",
       "      <td>1</td>\n",
       "      <td>1</td>\n",
       "      <td>4</td>\n",
       "      <td>2</td>\n",
       "      <td>Returning_Visitor</td>\n",
       "      <td>0</td>\n",
       "      <td>0</td>\n",
       "    </tr>\n",
       "    <tr>\n",
       "      <th>3</th>\n",
       "      <td>4454</td>\n",
       "      <td>0.0</td>\n",
       "      <td>0.000000</td>\n",
       "      <td>0.0</td>\n",
       "      <td>0.0</td>\n",
       "      <td>4.0</td>\n",
       "      <td>46.250000</td>\n",
       "      <td>0.050000</td>\n",
       "      <td>0.066667</td>\n",
       "      <td>0.0</td>\n",
       "      <td>0.0</td>\n",
       "      <td>Nov</td>\n",
       "      <td>3</td>\n",
       "      <td>2</td>\n",
       "      <td>6</td>\n",
       "      <td>13</td>\n",
       "      <td>Returning_Visitor</td>\n",
       "      <td>0</td>\n",
       "      <td>0</td>\n",
       "    </tr>\n",
       "    <tr>\n",
       "      <th>4</th>\n",
       "      <td>6186</td>\n",
       "      <td>0.0</td>\n",
       "      <td>0.000000</td>\n",
       "      <td>0.0</td>\n",
       "      <td>0.0</td>\n",
       "      <td>24.0</td>\n",
       "      <td>671.088653</td>\n",
       "      <td>0.026667</td>\n",
       "      <td>0.036566</td>\n",
       "      <td>0.0</td>\n",
       "      <td>0.0</td>\n",
       "      <td>Nov</td>\n",
       "      <td>1</td>\n",
       "      <td>1</td>\n",
       "      <td>3</td>\n",
       "      <td>2</td>\n",
       "      <td>Returning_Visitor</td>\n",
       "      <td>0</td>\n",
       "      <td>0</td>\n",
       "    </tr>\n",
       "  </tbody>\n",
       "</table>\n",
       "</div>"
      ],
      "text/plain": [
       "     ID  Administrative  Administrative_Duration  Informational  \\\n",
       "0  3935             1.0                50.333333            0.0   \n",
       "1  7866             6.0               299.000000            1.0   \n",
       "2  3727             0.0                 0.000000            0.0   \n",
       "3  4454             0.0                 0.000000            0.0   \n",
       "4  6186             0.0                 0.000000            0.0   \n",
       "\n",
       "   Informational_Duration  ProductRelated  ProductRelated_Duration  \\\n",
       "0                     0.0            21.0               586.189286   \n",
       "1                    41.0            36.0               696.402778   \n",
       "2                     0.0            19.0               620.033333   \n",
       "3                     0.0             4.0                46.250000   \n",
       "4                     0.0            24.0               671.088653   \n",
       "\n",
       "   BounceRates  ExitRates  PageValues  SpecialDay Month  OperatingSystems  \\\n",
       "0     0.000000   0.005556         0.0         0.6   May                 1   \n",
       "1     0.000000   0.002632         0.0         0.0   May                 2   \n",
       "2     0.000000   0.007895         0.0         0.0   Feb                 1   \n",
       "3     0.050000   0.066667         0.0         0.0   Nov                 3   \n",
       "4     0.026667   0.036566         0.0         0.0   Nov                 1   \n",
       "\n",
       "   Browser  Region  TrafficType        VisitorType  Weekend  Revenue  \n",
       "0        1       1            2  Returning_Visitor        0        0  \n",
       "1        2       2            4        New_Visitor        1        0  \n",
       "2        1       4            2  Returning_Visitor        0        0  \n",
       "3        2       6           13  Returning_Visitor        0        0  \n",
       "4        1       3            2  Returning_Visitor        0        0  "
      ]
     },
     "execution_count": 3,
     "metadata": {},
     "output_type": "execute_result"
    }
   ],
   "source": [
    "train_df.head()"
   ]
  },
  {
   "cell_type": "code",
   "execution_count": 4,
   "metadata": {},
   "outputs": [
    {
     "data": {
      "text/html": [
       "<div>\n",
       "<style scoped>\n",
       "    .dataframe tbody tr th:only-of-type {\n",
       "        vertical-align: middle;\n",
       "    }\n",
       "\n",
       "    .dataframe tbody tr th {\n",
       "        vertical-align: top;\n",
       "    }\n",
       "\n",
       "    .dataframe thead th {\n",
       "        text-align: right;\n",
       "    }\n",
       "</style>\n",
       "<table border=\"1\" class=\"dataframe\">\n",
       "  <thead>\n",
       "    <tr style=\"text-align: right;\">\n",
       "      <th></th>\n",
       "      <th>ID</th>\n",
       "      <th>Administrative</th>\n",
       "      <th>Administrative_Duration</th>\n",
       "      <th>Informational</th>\n",
       "      <th>Informational_Duration</th>\n",
       "      <th>ProductRelated</th>\n",
       "      <th>ProductRelated_Duration</th>\n",
       "      <th>BounceRates</th>\n",
       "      <th>ExitRates</th>\n",
       "      <th>PageValues</th>\n",
       "      <th>SpecialDay</th>\n",
       "      <th>OperatingSystems</th>\n",
       "      <th>Browser</th>\n",
       "      <th>Region</th>\n",
       "      <th>TrafficType</th>\n",
       "      <th>Weekend</th>\n",
       "      <th>Revenue</th>\n",
       "    </tr>\n",
       "  </thead>\n",
       "  <tbody>\n",
       "    <tr>\n",
       "      <th>count</th>\n",
       "      <td>8630.000000</td>\n",
       "      <td>8622.000000</td>\n",
       "      <td>8622.000000</td>\n",
       "      <td>8622.000000</td>\n",
       "      <td>8622.000000</td>\n",
       "      <td>8622.000000</td>\n",
       "      <td>8622.000000</td>\n",
       "      <td>8622.000000</td>\n",
       "      <td>8622.000000</td>\n",
       "      <td>8630.000000</td>\n",
       "      <td>8630.000000</td>\n",
       "      <td>8630.000000</td>\n",
       "      <td>8630.000000</td>\n",
       "      <td>8630.000000</td>\n",
       "      <td>8630.000000</td>\n",
       "      <td>8630.00000</td>\n",
       "      <td>8630.000000</td>\n",
       "    </tr>\n",
       "    <tr>\n",
       "      <th>mean</th>\n",
       "      <td>8015.500000</td>\n",
       "      <td>2.343192</td>\n",
       "      <td>83.405240</td>\n",
       "      <td>0.490373</td>\n",
       "      <td>33.159578</td>\n",
       "      <td>31.872419</td>\n",
       "      <td>1192.184366</td>\n",
       "      <td>0.021920</td>\n",
       "      <td>0.042457</td>\n",
       "      <td>5.699051</td>\n",
       "      <td>0.061738</td>\n",
       "      <td>2.123986</td>\n",
       "      <td>2.349594</td>\n",
       "      <td>3.153418</td>\n",
       "      <td>4.115064</td>\n",
       "      <td>0.23372</td>\n",
       "      <td>0.154693</td>\n",
       "    </tr>\n",
       "    <tr>\n",
       "      <th>std</th>\n",
       "      <td>2491.410745</td>\n",
       "      <td>3.315094</td>\n",
       "      <td>182.985925</td>\n",
       "      <td>1.258803</td>\n",
       "      <td>138.432097</td>\n",
       "      <td>44.605549</td>\n",
       "      <td>1944.264408</td>\n",
       "      <td>0.047651</td>\n",
       "      <td>0.047784</td>\n",
       "      <td>17.769196</td>\n",
       "      <td>0.199358</td>\n",
       "      <td>0.914171</td>\n",
       "      <td>1.718458</td>\n",
       "      <td>2.408576</td>\n",
       "      <td>4.069918</td>\n",
       "      <td>0.42322</td>\n",
       "      <td>0.361633</td>\n",
       "    </tr>\n",
       "    <tr>\n",
       "      <th>min</th>\n",
       "      <td>3701.000000</td>\n",
       "      <td>0.000000</td>\n",
       "      <td>-1.000000</td>\n",
       "      <td>0.000000</td>\n",
       "      <td>-1.000000</td>\n",
       "      <td>0.000000</td>\n",
       "      <td>-1.000000</td>\n",
       "      <td>0.000000</td>\n",
       "      <td>0.000000</td>\n",
       "      <td>0.000000</td>\n",
       "      <td>0.000000</td>\n",
       "      <td>1.000000</td>\n",
       "      <td>1.000000</td>\n",
       "      <td>1.000000</td>\n",
       "      <td>1.000000</td>\n",
       "      <td>0.00000</td>\n",
       "      <td>0.000000</td>\n",
       "    </tr>\n",
       "    <tr>\n",
       "      <th>25%</th>\n",
       "      <td>5858.250000</td>\n",
       "      <td>0.000000</td>\n",
       "      <td>0.000000</td>\n",
       "      <td>0.000000</td>\n",
       "      <td>0.000000</td>\n",
       "      <td>7.000000</td>\n",
       "      <td>192.462500</td>\n",
       "      <td>0.000000</td>\n",
       "      <td>0.014286</td>\n",
       "      <td>0.000000</td>\n",
       "      <td>0.000000</td>\n",
       "      <td>2.000000</td>\n",
       "      <td>2.000000</td>\n",
       "      <td>1.000000</td>\n",
       "      <td>2.000000</td>\n",
       "      <td>0.00000</td>\n",
       "      <td>0.000000</td>\n",
       "    </tr>\n",
       "    <tr>\n",
       "      <th>50%</th>\n",
       "      <td>8015.500000</td>\n",
       "      <td>1.000000</td>\n",
       "      <td>9.000000</td>\n",
       "      <td>0.000000</td>\n",
       "      <td>0.000000</td>\n",
       "      <td>18.000000</td>\n",
       "      <td>606.283333</td>\n",
       "      <td>0.003279</td>\n",
       "      <td>0.025000</td>\n",
       "      <td>0.000000</td>\n",
       "      <td>0.000000</td>\n",
       "      <td>2.000000</td>\n",
       "      <td>2.000000</td>\n",
       "      <td>3.000000</td>\n",
       "      <td>2.000000</td>\n",
       "      <td>0.00000</td>\n",
       "      <td>0.000000</td>\n",
       "    </tr>\n",
       "    <tr>\n",
       "      <th>75%</th>\n",
       "      <td>10172.750000</td>\n",
       "      <td>4.000000</td>\n",
       "      <td>95.575000</td>\n",
       "      <td>0.000000</td>\n",
       "      <td>0.000000</td>\n",
       "      <td>37.000000</td>\n",
       "      <td>1450.841355</td>\n",
       "      <td>0.017497</td>\n",
       "      <td>0.050000</td>\n",
       "      <td>0.000000</td>\n",
       "      <td>0.000000</td>\n",
       "      <td>3.000000</td>\n",
       "      <td>2.000000</td>\n",
       "      <td>4.000000</td>\n",
       "      <td>4.000000</td>\n",
       "      <td>0.00000</td>\n",
       "      <td>0.000000</td>\n",
       "    </tr>\n",
       "    <tr>\n",
       "      <th>max</th>\n",
       "      <td>12330.000000</td>\n",
       "      <td>26.000000</td>\n",
       "      <td>3398.750000</td>\n",
       "      <td>24.000000</td>\n",
       "      <td>2549.375000</td>\n",
       "      <td>705.000000</td>\n",
       "      <td>63973.522230</td>\n",
       "      <td>0.200000</td>\n",
       "      <td>0.200000</td>\n",
       "      <td>360.953384</td>\n",
       "      <td>1.000000</td>\n",
       "      <td>8.000000</td>\n",
       "      <td>13.000000</td>\n",
       "      <td>9.000000</td>\n",
       "      <td>20.000000</td>\n",
       "      <td>1.00000</td>\n",
       "      <td>1.000000</td>\n",
       "    </tr>\n",
       "  </tbody>\n",
       "</table>\n",
       "</div>"
      ],
      "text/plain": [
       "                 ID  Administrative  Administrative_Duration  Informational  \\\n",
       "count   8630.000000     8622.000000              8622.000000    8622.000000   \n",
       "mean    8015.500000        2.343192                83.405240       0.490373   \n",
       "std     2491.410745        3.315094               182.985925       1.258803   \n",
       "min     3701.000000        0.000000                -1.000000       0.000000   \n",
       "25%     5858.250000        0.000000                 0.000000       0.000000   \n",
       "50%     8015.500000        1.000000                 9.000000       0.000000   \n",
       "75%    10172.750000        4.000000                95.575000       0.000000   \n",
       "max    12330.000000       26.000000              3398.750000      24.000000   \n",
       "\n",
       "       Informational_Duration  ProductRelated  ProductRelated_Duration  \\\n",
       "count             8622.000000     8622.000000              8622.000000   \n",
       "mean                33.159578       31.872419              1192.184366   \n",
       "std                138.432097       44.605549              1944.264408   \n",
       "min                 -1.000000        0.000000                -1.000000   \n",
       "25%                  0.000000        7.000000               192.462500   \n",
       "50%                  0.000000       18.000000               606.283333   \n",
       "75%                  0.000000       37.000000              1450.841355   \n",
       "max               2549.375000      705.000000             63973.522230   \n",
       "\n",
       "       BounceRates    ExitRates   PageValues   SpecialDay  OperatingSystems  \\\n",
       "count  8622.000000  8622.000000  8630.000000  8630.000000       8630.000000   \n",
       "mean      0.021920     0.042457     5.699051     0.061738          2.123986   \n",
       "std       0.047651     0.047784    17.769196     0.199358          0.914171   \n",
       "min       0.000000     0.000000     0.000000     0.000000          1.000000   \n",
       "25%       0.000000     0.014286     0.000000     0.000000          2.000000   \n",
       "50%       0.003279     0.025000     0.000000     0.000000          2.000000   \n",
       "75%       0.017497     0.050000     0.000000     0.000000          3.000000   \n",
       "max       0.200000     0.200000   360.953384     1.000000          8.000000   \n",
       "\n",
       "           Browser       Region  TrafficType     Weekend      Revenue  \n",
       "count  8630.000000  8630.000000  8630.000000  8630.00000  8630.000000  \n",
       "mean      2.349594     3.153418     4.115064     0.23372     0.154693  \n",
       "std       1.718458     2.408576     4.069918     0.42322     0.361633  \n",
       "min       1.000000     1.000000     1.000000     0.00000     0.000000  \n",
       "25%       2.000000     1.000000     2.000000     0.00000     0.000000  \n",
       "50%       2.000000     3.000000     2.000000     0.00000     0.000000  \n",
       "75%       2.000000     4.000000     4.000000     0.00000     0.000000  \n",
       "max      13.000000     9.000000    20.000000     1.00000     1.000000  "
      ]
     },
     "execution_count": 4,
     "metadata": {},
     "output_type": "execute_result"
    }
   ],
   "source": [
    "train_df.describe()"
   ]
  },
  {
   "cell_type": "markdown",
   "metadata": {},
   "source": [
    "### Excluding ID and Revenue, there are 10 numerical features and  7 categorical features in train_df."
   ]
  },
  {
   "cell_type": "code",
   "execution_count": 5,
   "metadata": {},
   "outputs": [
    {
     "data": {
      "image/png": "[encoded data removed]",
      "text/plain": [
       "<Figure size 1440x1440 with 16 Axes>"
      ]
     },
     "metadata": {},
     "output_type": "display_data"
    }
   ],
   "source": [
    "plt.style.use('seaborn-whitegrid')\n",
    "\n",
    "train_df.iloc[:,1:].hist(bins=20, figsize=(20,20), color='lightblue', edgecolor = 'red')\n",
    "plt.show()"
   ]
  },
  {
   "cell_type": "code",
   "execution_count": 6,
   "metadata": {},
   "outputs": [
    {
     "data": {
      "text/plain": [
       "<AxesSubplot:>"
      ]
     },
     "execution_count": 6,
     "metadata": {},
     "output_type": "execute_result"
    },
    {
     "data": {
      "image/png": "[encoded data removed]",
      "text/plain": [
       "<Figure size 432x288 with 1 Axes>"
      ]
     },
     "metadata": {},
     "output_type": "display_data"
    }
   ],
   "source": [
    "train_df['Month'].hist()"
   ]
  },
  {
   "cell_type": "code",
   "execution_count": 7,
   "metadata": {},
   "outputs": [
    {
     "data": {
      "text/plain": [
       "<AxesSubplot:>"
      ]
     },
     "execution_count": 7,
     "metadata": {},
     "output_type": "execute_result"
    },
    {
     "data": {
      "image/png": "[encoded data removed]",
      "text/plain": [
       "<Figure size 432x288 with 1 Axes>"
      ]
     },
     "metadata": {},
     "output_type": "display_data"
    }
   ],
   "source": [
    "train_df['VisitorType'].hist()"
   ]
  },
  {
   "cell_type": "markdown",
   "metadata": {},
   "source": [
    "### We can see that many customers are returning visitors. They did not spend a lot of time in administrative, Informational and product related pages. While browsing in the store, many customers have low bounce and exit rates with high page values.  Majority of the customers are from Region 1 and did not shop on special days and weekends. It's also noticeable that the most visited months are May and November."
   ]
  },
  {
   "cell_type": "markdown",
   "metadata": {},
   "source": [
    "### Let's take a look correlations between Revenue and numerical features."
   ]
  },
  {
   "cell_type": "code",
   "execution_count": 8,
   "metadata": {},
   "outputs": [
    {
     "data": {
      "image/png": "[encoded data removed]",
      "text/plain": [
       "<Figure size 2160x1080 with 2 Axes>"
      ]
     },
     "metadata": {},
     "output_type": "display_data"
    }
   ],
   "source": [
    "def correlation_heatmap(dataframe,l,w):\n",
    "    corr = dataframe.corr()\n",
    "    \n",
    "    plt.figure(figsize=(l,w))\n",
    "    sns.heatmap(corr, vmax=1, square=True,annot=True,cmap='viridis')\n",
    "    \n",
    "    plt.title('Correlation between different continuous fearures')\n",
    "    plt.show();\n",
    "    \n",
    "cleandf = train_df.iloc[:,1:]\n",
    "cleandf = cleandf[['Administrative','Administrative_Duration','Informational','Informational_Duration','ProductRelated','ProductRelated_Duration',\\\n",
    "                   'BounceRates','ExitRates','PageValues','SpecialDay','Revenue']]\n",
    "correlation_heatmap(cleandf, 30,15)"
   ]
  },
  {
   "cell_type": "markdown",
   "metadata": {},
   "source": [
    "### Only PageValues and Revenue have a noticeable correlation."
   ]
  },
  {
   "cell_type": "markdown",
   "metadata": {},
   "source": [
    "### Now, It would be good to know how many customers generate revenue out of total 8630 customers in train_df."
   ]
  },
  {
   "cell_type": "code",
   "execution_count": 9,
   "metadata": {
    "colab": {
     "base_uri": "https://localhost:8080/",
     "height": 439
    },
    "id": "eWg2ppmCqhNQ",
    "outputId": "ff75d4b7-5455-40db-ce8b-0c2df85e622c"
   },
   "outputs": [
    {
     "data": {
      "text/html": [
       "<div>\n",
       "<style scoped>\n",
       "    .dataframe tbody tr th:only-of-type {\n",
       "        vertical-align: middle;\n",
       "    }\n",
       "\n",
       "    .dataframe tbody tr th {\n",
       "        vertical-align: top;\n",
       "    }\n",
       "\n",
       "    .dataframe thead th {\n",
       "        text-align: right;\n",
       "    }\n",
       "</style>\n",
       "<table border=\"1\" class=\"dataframe\">\n",
       "  <thead>\n",
       "    <tr style=\"text-align: right;\">\n",
       "      <th></th>\n",
       "      <th>ID</th>\n",
       "      <th>Administrative</th>\n",
       "      <th>Administrative_Duration</th>\n",
       "      <th>Informational</th>\n",
       "      <th>Informational_Duration</th>\n",
       "      <th>ProductRelated</th>\n",
       "      <th>ProductRelated_Duration</th>\n",
       "      <th>BounceRates</th>\n",
       "      <th>ExitRates</th>\n",
       "      <th>PageValues</th>\n",
       "      <th>SpecialDay</th>\n",
       "      <th>Month</th>\n",
       "      <th>OperatingSystems</th>\n",
       "      <th>Browser</th>\n",
       "      <th>Region</th>\n",
       "      <th>TrafficType</th>\n",
       "      <th>VisitorType</th>\n",
       "      <th>Weekend</th>\n",
       "      <th>Revenue</th>\n",
       "    </tr>\n",
       "  </thead>\n",
       "  <tbody>\n",
       "    <tr>\n",
       "      <th>10</th>\n",
       "      <td>4641</td>\n",
       "      <td>3.0</td>\n",
       "      <td>224.300000</td>\n",
       "      <td>5.0</td>\n",
       "      <td>487.00</td>\n",
       "      <td>74.0</td>\n",
       "      <td>1845.958333</td>\n",
       "      <td>0.002532</td>\n",
       "      <td>0.017679</td>\n",
       "      <td>34.678415</td>\n",
       "      <td>0.0</td>\n",
       "      <td>Nov</td>\n",
       "      <td>2</td>\n",
       "      <td>2</td>\n",
       "      <td>1</td>\n",
       "      <td>10</td>\n",
       "      <td>Returning_Visitor</td>\n",
       "      <td>1</td>\n",
       "      <td>1</td>\n",
       "    </tr>\n",
       "    <tr>\n",
       "      <th>13</th>\n",
       "      <td>4443</td>\n",
       "      <td>11.0</td>\n",
       "      <td>631.416667</td>\n",
       "      <td>5.0</td>\n",
       "      <td>1037.15</td>\n",
       "      <td>501.0</td>\n",
       "      <td>21672.244250</td>\n",
       "      <td>0.003965</td>\n",
       "      <td>0.014292</td>\n",
       "      <td>9.131387</td>\n",
       "      <td>0.0</td>\n",
       "      <td>Nov</td>\n",
       "      <td>2</td>\n",
       "      <td>2</td>\n",
       "      <td>1</td>\n",
       "      <td>2</td>\n",
       "      <td>Returning_Visitor</td>\n",
       "      <td>0</td>\n",
       "      <td>1</td>\n",
       "    </tr>\n",
       "    <tr>\n",
       "      <th>14</th>\n",
       "      <td>6435</td>\n",
       "      <td>4.0</td>\n",
       "      <td>218.966667</td>\n",
       "      <td>0.0</td>\n",
       "      <td>0.00</td>\n",
       "      <td>12.0</td>\n",
       "      <td>672.700000</td>\n",
       "      <td>0.000000</td>\n",
       "      <td>0.004444</td>\n",
       "      <td>83.101143</td>\n",
       "      <td>0.0</td>\n",
       "      <td>Nov</td>\n",
       "      <td>2</td>\n",
       "      <td>2</td>\n",
       "      <td>3</td>\n",
       "      <td>2</td>\n",
       "      <td>Returning_Visitor</td>\n",
       "      <td>1</td>\n",
       "      <td>1</td>\n",
       "    </tr>\n",
       "    <tr>\n",
       "      <th>15</th>\n",
       "      <td>5828</td>\n",
       "      <td>2.0</td>\n",
       "      <td>69.000000</td>\n",
       "      <td>2.0</td>\n",
       "      <td>92.00</td>\n",
       "      <td>37.0</td>\n",
       "      <td>796.957143</td>\n",
       "      <td>0.000000</td>\n",
       "      <td>0.024274</td>\n",
       "      <td>3.978276</td>\n",
       "      <td>0.0</td>\n",
       "      <td>Mar</td>\n",
       "      <td>2</td>\n",
       "      <td>2</td>\n",
       "      <td>7</td>\n",
       "      <td>2</td>\n",
       "      <td>Returning_Visitor</td>\n",
       "      <td>0</td>\n",
       "      <td>1</td>\n",
       "    </tr>\n",
       "    <tr>\n",
       "      <th>20</th>\n",
       "      <td>10988</td>\n",
       "      <td>1.0</td>\n",
       "      <td>29.200000</td>\n",
       "      <td>1.0</td>\n",
       "      <td>322.40</td>\n",
       "      <td>10.0</td>\n",
       "      <td>126.933333</td>\n",
       "      <td>0.014286</td>\n",
       "      <td>0.036905</td>\n",
       "      <td>13.594200</td>\n",
       "      <td>0.0</td>\n",
       "      <td>Sep</td>\n",
       "      <td>2</td>\n",
       "      <td>2</td>\n",
       "      <td>1</td>\n",
       "      <td>2</td>\n",
       "      <td>Returning_Visitor</td>\n",
       "      <td>0</td>\n",
       "      <td>1</td>\n",
       "    </tr>\n",
       "    <tr>\n",
       "      <th>...</th>\n",
       "      <td>...</td>\n",
       "      <td>...</td>\n",
       "      <td>...</td>\n",
       "      <td>...</td>\n",
       "      <td>...</td>\n",
       "      <td>...</td>\n",
       "      <td>...</td>\n",
       "      <td>...</td>\n",
       "      <td>...</td>\n",
       "      <td>...</td>\n",
       "      <td>...</td>\n",
       "      <td>...</td>\n",
       "      <td>...</td>\n",
       "      <td>...</td>\n",
       "      <td>...</td>\n",
       "      <td>...</td>\n",
       "      <td>...</td>\n",
       "      <td>...</td>\n",
       "      <td>...</td>\n",
       "    </tr>\n",
       "    <tr>\n",
       "      <th>8607</th>\n",
       "      <td>5023</td>\n",
       "      <td>0.0</td>\n",
       "      <td>0.000000</td>\n",
       "      <td>0.0</td>\n",
       "      <td>0.00</td>\n",
       "      <td>31.0</td>\n",
       "      <td>1144.972222</td>\n",
       "      <td>0.006667</td>\n",
       "      <td>0.008333</td>\n",
       "      <td>77.041998</td>\n",
       "      <td>0.0</td>\n",
       "      <td>Dec</td>\n",
       "      <td>2</td>\n",
       "      <td>2</td>\n",
       "      <td>7</td>\n",
       "      <td>2</td>\n",
       "      <td>New_Visitor</td>\n",
       "      <td>0</td>\n",
       "      <td>1</td>\n",
       "    </tr>\n",
       "    <tr>\n",
       "      <th>8609</th>\n",
       "      <td>4628</td>\n",
       "      <td>7.0</td>\n",
       "      <td>421.250000</td>\n",
       "      <td>0.0</td>\n",
       "      <td>0.00</td>\n",
       "      <td>59.0</td>\n",
       "      <td>1945.896667</td>\n",
       "      <td>0.012240</td>\n",
       "      <td>0.010579</td>\n",
       "      <td>28.529190</td>\n",
       "      <td>0.0</td>\n",
       "      <td>June</td>\n",
       "      <td>2</td>\n",
       "      <td>6</td>\n",
       "      <td>1</td>\n",
       "      <td>20</td>\n",
       "      <td>Returning_Visitor</td>\n",
       "      <td>0</td>\n",
       "      <td>1</td>\n",
       "    </tr>\n",
       "    <tr>\n",
       "      <th>8613</th>\n",
       "      <td>4852</td>\n",
       "      <td>0.0</td>\n",
       "      <td>0.000000</td>\n",
       "      <td>0.0</td>\n",
       "      <td>0.00</td>\n",
       "      <td>50.0</td>\n",
       "      <td>1803.768849</td>\n",
       "      <td>0.001361</td>\n",
       "      <td>0.017428</td>\n",
       "      <td>3.609399</td>\n",
       "      <td>0.0</td>\n",
       "      <td>Mar</td>\n",
       "      <td>2</td>\n",
       "      <td>4</td>\n",
       "      <td>7</td>\n",
       "      <td>3</td>\n",
       "      <td>Returning_Visitor</td>\n",
       "      <td>1</td>\n",
       "      <td>1</td>\n",
       "    </tr>\n",
       "    <tr>\n",
       "      <th>8623</th>\n",
       "      <td>6453</td>\n",
       "      <td>3.0</td>\n",
       "      <td>275.000000</td>\n",
       "      <td>1.0</td>\n",
       "      <td>29.50</td>\n",
       "      <td>30.0</td>\n",
       "      <td>1107.047619</td>\n",
       "      <td>0.000000</td>\n",
       "      <td>0.017761</td>\n",
       "      <td>35.981066</td>\n",
       "      <td>0.0</td>\n",
       "      <td>Mar</td>\n",
       "      <td>3</td>\n",
       "      <td>2</td>\n",
       "      <td>3</td>\n",
       "      <td>1</td>\n",
       "      <td>Returning_Visitor</td>\n",
       "      <td>1</td>\n",
       "      <td>1</td>\n",
       "    </tr>\n",
       "    <tr>\n",
       "      <th>8625</th>\n",
       "      <td>5935</td>\n",
       "      <td>0.0</td>\n",
       "      <td>0.000000</td>\n",
       "      <td>0.0</td>\n",
       "      <td>0.00</td>\n",
       "      <td>29.0</td>\n",
       "      <td>873.750000</td>\n",
       "      <td>0.000000</td>\n",
       "      <td>0.031034</td>\n",
       "      <td>0.000000</td>\n",
       "      <td>0.0</td>\n",
       "      <td>Nov</td>\n",
       "      <td>2</td>\n",
       "      <td>2</td>\n",
       "      <td>5</td>\n",
       "      <td>2</td>\n",
       "      <td>Returning_Visitor</td>\n",
       "      <td>1</td>\n",
       "      <td>1</td>\n",
       "    </tr>\n",
       "  </tbody>\n",
       "</table>\n",
       "<p>1335 rows × 19 columns</p>\n",
       "</div>"
      ],
      "text/plain": [
       "         ID  Administrative  Administrative_Duration  Informational  \\\n",
       "10     4641             3.0               224.300000            5.0   \n",
       "13     4443            11.0               631.416667            5.0   \n",
       "14     6435             4.0               218.966667            0.0   \n",
       "15     5828             2.0                69.000000            2.0   \n",
       "20    10988             1.0                29.200000            1.0   \n",
       "...     ...             ...                      ...            ...   \n",
       "8607   5023             0.0                 0.000000            0.0   \n",
       "8609   4628             7.0               421.250000            0.0   \n",
       "8613   4852             0.0                 0.000000            0.0   \n",
       "8623   6453             3.0               275.000000            1.0   \n",
       "8625   5935             0.0                 0.000000            0.0   \n",
       "\n",
       "      Informational_Duration  ProductRelated  ProductRelated_Duration  \\\n",
       "10                    487.00            74.0              1845.958333   \n",
       "13                   1037.15           501.0             21672.244250   \n",
       "14                      0.00            12.0               672.700000   \n",
       "15                     92.00            37.0               796.957143   \n",
       "20                    322.40            10.0               126.933333   \n",
       "...                      ...             ...                      ...   \n",
       "8607                    0.00            31.0              1144.972222   \n",
       "8609                    0.00            59.0              1945.896667   \n",
       "8613                    0.00            50.0              1803.768849   \n",
       "8623                   29.50            30.0              1107.047619   \n",
       "8625                    0.00            29.0               873.750000   \n",
       "\n",
       "      BounceRates  ExitRates  PageValues  SpecialDay Month  OperatingSystems  \\\n",
       "10       0.002532   0.017679   34.678415         0.0   Nov                 2   \n",
       "13       0.003965   0.014292    9.131387         0.0   Nov                 2   \n",
       "14       0.000000   0.004444   83.101143         0.0   Nov                 2   \n",
       "15       0.000000   0.024274    3.978276         0.0   Mar                 2   \n",
       "20       0.014286   0.036905   13.594200         0.0   Sep                 2   \n",
       "...           ...        ...         ...         ...   ...               ...   \n",
       "8607     0.006667   0.008333   77.041998         0.0   Dec                 2   \n",
       "8609     0.012240   0.010579   28.529190         0.0  June                 2   \n",
       "8613     0.001361   0.017428    3.609399         0.0   Mar                 2   \n",
       "8623     0.000000   0.017761   35.981066         0.0   Mar                 3   \n",
       "8625     0.000000   0.031034    0.000000         0.0   Nov                 2   \n",
       "\n",
       "      Browser  Region  TrafficType        VisitorType  Weekend  Revenue  \n",
       "10          2       1           10  Returning_Visitor        1        1  \n",
       "13          2       1            2  Returning_Visitor        0        1  \n",
       "14          2       3            2  Returning_Visitor        1        1  \n",
       "15          2       7            2  Returning_Visitor        0        1  \n",
       "20          2       1            2  Returning_Visitor        0        1  \n",
       "...       ...     ...          ...                ...      ...      ...  \n",
       "8607        2       7            2        New_Visitor        0        1  \n",
       "8609        6       1           20  Returning_Visitor        0        1  \n",
       "8613        4       7            3  Returning_Visitor        1        1  \n",
       "8623        2       3            1  Returning_Visitor        1        1  \n",
       "8625        2       5            2  Returning_Visitor        1        1  \n",
       "\n",
       "[1335 rows x 19 columns]"
      ]
     },
     "execution_count": 9,
     "metadata": {},
     "output_type": "execute_result"
    }
   ],
   "source": [
    " train_w_revenue_df = train_df[train_df.Revenue == 1]\n",
    " train_w_revenue_df"
   ]
  },
  {
   "cell_type": "markdown",
   "metadata": {},
   "source": [
    "### Only 1335 customers generate revenue. Thus, the data is highly imbalanced. Let's take a look at distributions of the data. "
   ]
  },
  {
   "cell_type": "code",
   "execution_count": 10,
   "metadata": {},
   "outputs": [
    {
     "data": {
      "image/png": "[encoded data removed]",
      "text/plain": [
       "<Figure size 1440x1440 with 16 Axes>"
      ]
     },
     "metadata": {},
     "output_type": "display_data"
    }
   ],
   "source": [
    "plt.style.use('seaborn-whitegrid')\n",
    "\n",
    "train_w_revenue_df.iloc[:,1:].hist(bins=20, figsize=(20,20), color='lightblue', edgecolor = 'red')\n",
    "plt.show()"
   ]
  },
  {
   "cell_type": "code",
   "execution_count": 11,
   "metadata": {},
   "outputs": [
    {
     "data": {
      "text/plain": [
       "<AxesSubplot:>"
      ]
     },
     "execution_count": 11,
     "metadata": {},
     "output_type": "execute_result"
    },
    {
     "data": {
      "image/png": "[encoded data removed]",
      "text/plain": [
       "<Figure size 432x288 with 1 Axes>"
      ]
     },
     "metadata": {},
     "output_type": "display_data"
    }
   ],
   "source": [
    "train_w_revenue_df['Month'].hist()"
   ]
  },
  {
   "cell_type": "code",
   "execution_count": 12,
   "metadata": {},
   "outputs": [
    {
     "data": {
      "text/plain": [
       "<AxesSubplot:>"
      ]
     },
     "execution_count": 12,
     "metadata": {},
     "output_type": "execute_result"
    },
    {
     "data": {
      "image/png": "[encoded data removed]",
      "text/plain": [
       "<Figure size 432x288 with 1 Axes>"
      ]
     },
     "metadata": {},
     "output_type": "display_data"
    }
   ],
   "source": [
    "train_w_revenue_df['VisitorType'].hist()"
   ]
  },
  {
   "cell_type": "markdown",
   "metadata": {},
   "source": [
    "### We can see that distributions of the customers data with revenue are similar to the distributions of all customers data plotted in the above cells. Nonetheless, there were slight changes. The most visted month is now November instead of March and November. Since Black Friday is in November, it may have contributed to the sales of the store.  "
   ]
  },
  {
   "cell_type": "markdown",
   "metadata": {},
   "source": [
    "### Now, before we build a prediction model, let's pre-process data."
   ]
  },
  {
   "cell_type": "markdown",
   "metadata": {},
   "source": [
    "### First, check missing values."
   ]
  },
  {
   "cell_type": "code",
   "execution_count": 13,
   "metadata": {
    "colab": {
     "base_uri": "https://localhost:8080/",
     "height": 663
    },
    "id": "0N11cJVU_cvj",
    "outputId": "22fee5e8-e996-47ee-da83-b857da8a0db1"
   },
   "outputs": [
    {
     "name": "stdout",
     "output_type": "stream",
     "text": [
      "<class 'pandas.core.frame.DataFrame'>\n",
      "RangeIndex: 8630 entries, 0 to 8629\n",
      "Data columns (total 19 columns):\n",
      " #   Column                   Non-Null Count  Dtype  \n",
      "---  ------                   --------------  -----  \n",
      " 0   ID                       8630 non-null   int64  \n",
      " 1   Administrative           8622 non-null   float64\n",
      " 2   Administrative_Duration  8622 non-null   float64\n",
      " 3   Informational            8622 non-null   float64\n",
      " 4   Informational_Duration   8622 non-null   float64\n",
      " 5   ProductRelated           8622 non-null   float64\n",
      " 6   ProductRelated_Duration  8622 non-null   float64\n",
      " 7   BounceRates              8622 non-null   float64\n",
      " 8   ExitRates                8622 non-null   float64\n",
      " 9   PageValues               8630 non-null   float64\n",
      " 10  SpecialDay               8630 non-null   float64\n",
      " 11  Month                    8630 non-null   object \n",
      " 12  OperatingSystems         8630 non-null   int64  \n",
      " 13  Browser                  8630 non-null   int64  \n",
      " 14  Region                   8630 non-null   int64  \n",
      " 15  TrafficType              8630 non-null   int64  \n",
      " 16  VisitorType              8630 non-null   object \n",
      " 17  Weekend                  8630 non-null   int64  \n",
      " 18  Revenue                  8630 non-null   int64  \n",
      "dtypes: float64(10), int64(7), object(2)\n",
      "memory usage: 1.3+ MB\n"
     ]
    },
    {
     "data": {
      "text/plain": [
       "(8630, 19)"
      ]
     },
     "execution_count": 13,
     "metadata": {},
     "output_type": "execute_result"
    }
   ],
   "source": [
    "train_df.info()\n",
    "train_df.shape"
   ]
  },
  {
   "cell_type": "code",
   "execution_count": 14,
   "metadata": {
    "colab": {
     "base_uri": "https://localhost:8080/",
     "height": 646
    },
    "id": "LuHxwLThx9Fg",
    "outputId": "2897f124-cc19-4908-f6f5-349d54026a0e"
   },
   "outputs": [
    {
     "name": "stdout",
     "output_type": "stream",
     "text": [
      "<class 'pandas.core.frame.DataFrame'>\n",
      "RangeIndex: 3700 entries, 0 to 3699\n",
      "Data columns (total 18 columns):\n",
      " #   Column                   Non-Null Count  Dtype  \n",
      "---  ------                   --------------  -----  \n",
      " 0   ID                       3700 non-null   int64  \n",
      " 1   Administrative           3694 non-null   float64\n",
      " 2   Administrative_Duration  3694 non-null   float64\n",
      " 3   Informational            3694 non-null   float64\n",
      " 4   Informational_Duration   3694 non-null   float64\n",
      " 5   ProductRelated           3694 non-null   float64\n",
      " 6   ProductRelated_Duration  3694 non-null   float64\n",
      " 7   BounceRates              3694 non-null   float64\n",
      " 8   ExitRates                3694 non-null   float64\n",
      " 9   PageValues               3700 non-null   float64\n",
      " 10  SpecialDay               3700 non-null   float64\n",
      " 11  Month                    3700 non-null   object \n",
      " 12  OperatingSystems         3700 non-null   int64  \n",
      " 13  Browser                  3700 non-null   int64  \n",
      " 14  Region                   3700 non-null   int64  \n",
      " 15  TrafficType              3700 non-null   int64  \n",
      " 16  VisitorType              3700 non-null   object \n",
      " 17  Weekend                  3700 non-null   int64  \n",
      "dtypes: float64(10), int64(6), object(2)\n",
      "memory usage: 520.4+ KB\n"
     ]
    },
    {
     "data": {
      "text/plain": [
       "(3700, 18)"
      ]
     },
     "execution_count": 14,
     "metadata": {},
     "output_type": "execute_result"
    }
   ],
   "source": [
    "test_df.info()\n",
    "test_df.shape"
   ]
  },
  {
   "cell_type": "code",
   "execution_count": 15,
   "metadata": {
    "colab": {
     "base_uri": "https://localhost:8080/",
     "height": 34
    },
    "id": "A4aHCtQnsowS",
    "outputId": "d46691ea-a971-4679-aeb7-bd70d08e29f6"
   },
   "outputs": [
    {
     "data": {
      "text/plain": [
       "8"
      ]
     },
     "execution_count": 15,
     "metadata": {},
     "output_type": "execute_result"
    }
   ],
   "source": [
    "train_df.isnull().any(axis = 1).sum()"
   ]
  },
  {
   "cell_type": "code",
   "execution_count": 16,
   "metadata": {},
   "outputs": [
    {
     "data": {
      "text/plain": [
       "6"
      ]
     },
     "execution_count": 16,
     "metadata": {},
     "output_type": "execute_result"
    }
   ],
   "source": [
    "test_df.isnull().any(axis = 1).sum()"
   ]
  },
  {
   "cell_type": "markdown",
   "metadata": {},
   "source": [
    "### train_df has 8 rows with missing values and test_df has 6 rows with missing values."
   ]
  },
  {
   "cell_type": "code",
   "execution_count": 17,
   "metadata": {},
   "outputs": [
    {
     "data": {
      "text/plain": [
       "ID                         0\n",
       "Administrative             0\n",
       "Administrative_Duration    0\n",
       "Informational              0\n",
       "Informational_Duration     0\n",
       "ProductRelated             0\n",
       "ProductRelated_Duration    0\n",
       "BounceRates                0\n",
       "ExitRates                  0\n",
       "PageValues                 0\n",
       "SpecialDay                 0\n",
       "Month                      0\n",
       "OperatingSystems           0\n",
       "Browser                    0\n",
       "Region                     0\n",
       "TrafficType                0\n",
       "VisitorType                0\n",
       "Weekend                    0\n",
       "Revenue                    0\n",
       "dtype: int64"
      ]
     },
     "execution_count": 17,
     "metadata": {},
     "output_type": "execute_result"
    }
   ],
   "source": [
    "train_w_revenue_df.isnull().sum()"
   ]
  },
  {
   "cell_type": "markdown",
   "metadata": {},
   "source": [
    "### Fortunately, there is no missing values with customers that generate revenue. "
   ]
  },
  {
   "cell_type": "markdown",
   "metadata": {},
   "source": [
    "### Before we move on, check 8 rows with missing values in train_df to see if there is any noticeable pattern."
   ]
  },
  {
   "cell_type": "code",
   "execution_count": 18,
   "metadata": {
    "colab": {
     "base_uri": "https://localhost:8080/",
     "height": 317
    },
    "id": "CCdZgHvfunp6",
    "outputId": "6eb04a20-f09f-4023-81a4-5d130ac70c26"
   },
   "outputs": [
    {
     "data": {
      "text/html": [
       "<div>\n",
       "<style scoped>\n",
       "    .dataframe tbody tr th:only-of-type {\n",
       "        vertical-align: middle;\n",
       "    }\n",
       "\n",
       "    .dataframe tbody tr th {\n",
       "        vertical-align: top;\n",
       "    }\n",
       "\n",
       "    .dataframe thead th {\n",
       "        text-align: right;\n",
       "    }\n",
       "</style>\n",
       "<table border=\"1\" class=\"dataframe\">\n",
       "  <thead>\n",
       "    <tr style=\"text-align: right;\">\n",
       "      <th></th>\n",
       "      <th>ID</th>\n",
       "      <th>Administrative</th>\n",
       "      <th>Administrative_Duration</th>\n",
       "      <th>Informational</th>\n",
       "      <th>Informational_Duration</th>\n",
       "      <th>ProductRelated</th>\n",
       "      <th>ProductRelated_Duration</th>\n",
       "      <th>BounceRates</th>\n",
       "      <th>ExitRates</th>\n",
       "      <th>PageValues</th>\n",
       "      <th>SpecialDay</th>\n",
       "      <th>Month</th>\n",
       "      <th>OperatingSystems</th>\n",
       "      <th>Browser</th>\n",
       "      <th>Region</th>\n",
       "      <th>TrafficType</th>\n",
       "      <th>VisitorType</th>\n",
       "      <th>Weekend</th>\n",
       "      <th>Revenue</th>\n",
       "    </tr>\n",
       "  </thead>\n",
       "  <tbody>\n",
       "    <tr>\n",
       "      <th>502</th>\n",
       "      <td>3934</td>\n",
       "      <td>NaN</td>\n",
       "      <td>NaN</td>\n",
       "      <td>NaN</td>\n",
       "      <td>NaN</td>\n",
       "      <td>NaN</td>\n",
       "      <td>NaN</td>\n",
       "      <td>NaN</td>\n",
       "      <td>NaN</td>\n",
       "      <td>0.0</td>\n",
       "      <td>0.0</td>\n",
       "      <td>Mar</td>\n",
       "      <td>2</td>\n",
       "      <td>2</td>\n",
       "      <td>1</td>\n",
       "      <td>2</td>\n",
       "      <td>Returning_Visitor</td>\n",
       "      <td>0</td>\n",
       "      <td>0</td>\n",
       "    </tr>\n",
       "    <tr>\n",
       "      <th>1597</th>\n",
       "      <td>7032</td>\n",
       "      <td>NaN</td>\n",
       "      <td>NaN</td>\n",
       "      <td>NaN</td>\n",
       "      <td>NaN</td>\n",
       "      <td>NaN</td>\n",
       "      <td>NaN</td>\n",
       "      <td>NaN</td>\n",
       "      <td>NaN</td>\n",
       "      <td>0.0</td>\n",
       "      <td>0.0</td>\n",
       "      <td>Mar</td>\n",
       "      <td>2</td>\n",
       "      <td>2</td>\n",
       "      <td>3</td>\n",
       "      <td>1</td>\n",
       "      <td>Returning_Visitor</td>\n",
       "      <td>0</td>\n",
       "      <td>0</td>\n",
       "    </tr>\n",
       "    <tr>\n",
       "      <th>1974</th>\n",
       "      <td>5695</td>\n",
       "      <td>NaN</td>\n",
       "      <td>NaN</td>\n",
       "      <td>NaN</td>\n",
       "      <td>NaN</td>\n",
       "      <td>NaN</td>\n",
       "      <td>NaN</td>\n",
       "      <td>NaN</td>\n",
       "      <td>NaN</td>\n",
       "      <td>0.0</td>\n",
       "      <td>0.0</td>\n",
       "      <td>Mar</td>\n",
       "      <td>1</td>\n",
       "      <td>1</td>\n",
       "      <td>1</td>\n",
       "      <td>2</td>\n",
       "      <td>Returning_Visitor</td>\n",
       "      <td>0</td>\n",
       "      <td>0</td>\n",
       "    </tr>\n",
       "    <tr>\n",
       "      <th>3801</th>\n",
       "      <td>8387</td>\n",
       "      <td>NaN</td>\n",
       "      <td>NaN</td>\n",
       "      <td>NaN</td>\n",
       "      <td>NaN</td>\n",
       "      <td>NaN</td>\n",
       "      <td>NaN</td>\n",
       "      <td>NaN</td>\n",
       "      <td>NaN</td>\n",
       "      <td>0.0</td>\n",
       "      <td>0.0</td>\n",
       "      <td>Mar</td>\n",
       "      <td>3</td>\n",
       "      <td>2</td>\n",
       "      <td>1</td>\n",
       "      <td>1</td>\n",
       "      <td>Returning_Visitor</td>\n",
       "      <td>0</td>\n",
       "      <td>0</td>\n",
       "    </tr>\n",
       "    <tr>\n",
       "      <th>3833</th>\n",
       "      <td>7446</td>\n",
       "      <td>NaN</td>\n",
       "      <td>NaN</td>\n",
       "      <td>NaN</td>\n",
       "      <td>NaN</td>\n",
       "      <td>NaN</td>\n",
       "      <td>NaN</td>\n",
       "      <td>NaN</td>\n",
       "      <td>NaN</td>\n",
       "      <td>0.0</td>\n",
       "      <td>0.0</td>\n",
       "      <td>Mar</td>\n",
       "      <td>2</td>\n",
       "      <td>4</td>\n",
       "      <td>5</td>\n",
       "      <td>1</td>\n",
       "      <td>Returning_Visitor</td>\n",
       "      <td>0</td>\n",
       "      <td>0</td>\n",
       "    </tr>\n",
       "    <tr>\n",
       "      <th>4270</th>\n",
       "      <td>5563</td>\n",
       "      <td>NaN</td>\n",
       "      <td>NaN</td>\n",
       "      <td>NaN</td>\n",
       "      <td>NaN</td>\n",
       "      <td>NaN</td>\n",
       "      <td>NaN</td>\n",
       "      <td>NaN</td>\n",
       "      <td>NaN</td>\n",
       "      <td>0.0</td>\n",
       "      <td>0.0</td>\n",
       "      <td>Mar</td>\n",
       "      <td>2</td>\n",
       "      <td>2</td>\n",
       "      <td>1</td>\n",
       "      <td>1</td>\n",
       "      <td>Returning_Visitor</td>\n",
       "      <td>1</td>\n",
       "      <td>0</td>\n",
       "    </tr>\n",
       "    <tr>\n",
       "      <th>6665</th>\n",
       "      <td>12293</td>\n",
       "      <td>NaN</td>\n",
       "      <td>NaN</td>\n",
       "      <td>NaN</td>\n",
       "      <td>NaN</td>\n",
       "      <td>NaN</td>\n",
       "      <td>NaN</td>\n",
       "      <td>NaN</td>\n",
       "      <td>NaN</td>\n",
       "      <td>0.0</td>\n",
       "      <td>0.0</td>\n",
       "      <td>Mar</td>\n",
       "      <td>2</td>\n",
       "      <td>2</td>\n",
       "      <td>2</td>\n",
       "      <td>1</td>\n",
       "      <td>Returning_Visitor</td>\n",
       "      <td>0</td>\n",
       "      <td>0</td>\n",
       "    </tr>\n",
       "    <tr>\n",
       "      <th>8252</th>\n",
       "      <td>10419</td>\n",
       "      <td>NaN</td>\n",
       "      <td>NaN</td>\n",
       "      <td>NaN</td>\n",
       "      <td>NaN</td>\n",
       "      <td>NaN</td>\n",
       "      <td>NaN</td>\n",
       "      <td>NaN</td>\n",
       "      <td>NaN</td>\n",
       "      <td>0.0</td>\n",
       "      <td>0.0</td>\n",
       "      <td>Mar</td>\n",
       "      <td>2</td>\n",
       "      <td>2</td>\n",
       "      <td>1</td>\n",
       "      <td>2</td>\n",
       "      <td>Returning_Visitor</td>\n",
       "      <td>0</td>\n",
       "      <td>0</td>\n",
       "    </tr>\n",
       "  </tbody>\n",
       "</table>\n",
       "</div>"
      ],
      "text/plain": [
       "         ID  Administrative  Administrative_Duration  Informational  \\\n",
       "502    3934             NaN                      NaN            NaN   \n",
       "1597   7032             NaN                      NaN            NaN   \n",
       "1974   5695             NaN                      NaN            NaN   \n",
       "3801   8387             NaN                      NaN            NaN   \n",
       "3833   7446             NaN                      NaN            NaN   \n",
       "4270   5563             NaN                      NaN            NaN   \n",
       "6665  12293             NaN                      NaN            NaN   \n",
       "8252  10419             NaN                      NaN            NaN   \n",
       "\n",
       "      Informational_Duration  ProductRelated  ProductRelated_Duration  \\\n",
       "502                      NaN             NaN                      NaN   \n",
       "1597                     NaN             NaN                      NaN   \n",
       "1974                     NaN             NaN                      NaN   \n",
       "3801                     NaN             NaN                      NaN   \n",
       "3833                     NaN             NaN                      NaN   \n",
       "4270                     NaN             NaN                      NaN   \n",
       "6665                     NaN             NaN                      NaN   \n",
       "8252                     NaN             NaN                      NaN   \n",
       "\n",
       "      BounceRates  ExitRates  PageValues  SpecialDay Month  OperatingSystems  \\\n",
       "502           NaN        NaN         0.0         0.0   Mar                 2   \n",
       "1597          NaN        NaN         0.0         0.0   Mar                 2   \n",
       "1974          NaN        NaN         0.0         0.0   Mar                 1   \n",
       "3801          NaN        NaN         0.0         0.0   Mar                 3   \n",
       "3833          NaN        NaN         0.0         0.0   Mar                 2   \n",
       "4270          NaN        NaN         0.0         0.0   Mar                 2   \n",
       "6665          NaN        NaN         0.0         0.0   Mar                 2   \n",
       "8252          NaN        NaN         0.0         0.0   Mar                 2   \n",
       "\n",
       "      Browser  Region  TrafficType        VisitorType  Weekend  Revenue  \n",
       "502         2       1            2  Returning_Visitor        0        0  \n",
       "1597        2       3            1  Returning_Visitor        0        0  \n",
       "1974        1       1            2  Returning_Visitor        0        0  \n",
       "3801        2       1            1  Returning_Visitor        0        0  \n",
       "3833        4       5            1  Returning_Visitor        0        0  \n",
       "4270        2       1            1  Returning_Visitor        1        0  \n",
       "6665        2       2            1  Returning_Visitor        0        0  \n",
       "8252        2       1            2  Returning_Visitor        0        0  "
      ]
     },
     "execution_count": 18,
     "metadata": {},
     "output_type": "execute_result"
    }
   ],
   "source": [
    "null_data = train_df[train_df.isnull().any(axis=1)]\n",
    "null_data"
   ]
  },
  {
   "cell_type": "markdown",
   "metadata": {},
   "source": [
    "### We can notice that all rows with the missing data occured from returning visitors who visited the store in March. "
   ]
  },
  {
   "cell_type": "markdown",
   "metadata": {},
   "source": [
    "### Since missing values are all numerical features, let's impute with median."
   ]
  },
  {
   "cell_type": "code",
   "execution_count": 19,
   "metadata": {
    "id": "2t-QNFmtyViF"
   },
   "outputs": [],
   "source": [
    "train_df['Administrative'] = train_df['Administrative'].fillna(train_df['Administrative'].median())\n",
    "train_df['Administrative_Duration'] = train_df['Administrative_Duration'].fillna(train_df['Administrative_Duration'].median())\n",
    "\n",
    "train_df['Informational'] = train_df['Informational'].fillna(train_df['Informational'].median())\n",
    "train_df['Informational_Duration'] = train_df['Informational_Duration'].fillna(train_df['Informational_Duration'].median())\n",
    "\n",
    "train_df['ProductRelated'] = train_df['ProductRelated'].fillna(train_df['ProductRelated'].median())\n",
    "train_df['ProductRelated_Duration'] = train_df['ProductRelated_Duration'].fillna(train_df['ProductRelated_Duration'].median())\n",
    "\n",
    "train_df['BounceRates'] = train_df['BounceRates'].fillna(train_df['BounceRates'].median())\n",
    "train_df['ExitRates'] = train_df['ExitRates'].fillna(train_df['ExitRates'].median())"
   ]
  },
  {
   "cell_type": "code",
   "execution_count": 20,
   "metadata": {
    "colab": {
     "base_uri": "https://localhost:8080/",
     "height": 544
    },
    "id": "u3VZK9N91DiA",
    "outputId": "27875c00-0924-4d7c-8cb9-34f160c33373"
   },
   "outputs": [
    {
     "data": {
      "text/plain": [
       "ID                         0\n",
       "Administrative             0\n",
       "Administrative_Duration    0\n",
       "Informational              0\n",
       "Informational_Duration     0\n",
       "ProductRelated             0\n",
       "ProductRelated_Duration    0\n",
       "BounceRates                0\n",
       "ExitRates                  0\n",
       "PageValues                 0\n",
       "SpecialDay                 0\n",
       "Month                      0\n",
       "OperatingSystems           0\n",
       "Browser                    0\n",
       "Region                     0\n",
       "TrafficType                0\n",
       "VisitorType                0\n",
       "Weekend                    0\n",
       "Revenue                    0\n",
       "dtype: int64"
      ]
     },
     "execution_count": 20,
     "metadata": {},
     "output_type": "execute_result"
    }
   ],
   "source": [
    "train_df.isnull().sum()"
   ]
  },
  {
   "cell_type": "markdown",
   "metadata": {},
   "source": [
    "### Now, create dummy variables for categorical variables in train_df and test_df."
   ]
  },
  {
   "cell_type": "code",
   "execution_count": 21,
   "metadata": {},
   "outputs": [],
   "source": [
    "train_df = pd.get_dummies(train_df, columns=['Month'])\n",
    "train_df = pd.get_dummies(train_df, columns=['OperatingSystems'])\n",
    "train_df = pd.get_dummies(train_df, columns=['Region'])\n",
    "train_df = pd.get_dummies(train_df, columns=['VisitorType'])\n",
    "train_df = pd.get_dummies(train_df, columns=['Weekend'])"
   ]
  },
  {
   "cell_type": "markdown",
   "metadata": {},
   "source": [
    "### Let's do the same thing for test_df."
   ]
  },
  {
   "cell_type": "code",
   "execution_count": 22,
   "metadata": {
    "id": "8WVlmgP9CmJU"
   },
   "outputs": [],
   "source": [
    "test_df = pd.get_dummies(test_df, columns=['Month'])\n",
    "test_df = pd.get_dummies(test_df, columns=['OperatingSystems'])\n",
    "test_df = pd.get_dummies(test_df, columns=['Region'])\n",
    "test_df = pd.get_dummies(test_df, columns=['VisitorType'])\n",
    "test_df = pd.get_dummies(test_df, columns=['Weekend'])"
   ]
  },
  {
   "cell_type": "markdown",
   "metadata": {},
   "source": [
    "### Remove ID and Revenue from X DataFrame before we train models."
   ]
  },
  {
   "cell_type": "code",
   "execution_count": 23,
   "metadata": {
    "colab": {
     "base_uri": "https://localhost:8080/",
     "height": 170
    },
    "id": "6U8-M65vmZBU",
    "outputId": "2a0ce5e2-352c-4ed7-9397-6ab677f1df8f"
   },
   "outputs": [
    {
     "data": {
      "text/plain": [
       "array(['Administrative', 'Administrative_Duration', 'Informational',\n",
       "       'Informational_Duration', 'ProductRelated',\n",
       "       'ProductRelated_Duration', 'BounceRates', 'ExitRates',\n",
       "       'PageValues', 'SpecialDay', 'Browser', 'TrafficType', 'Month_Aug',\n",
       "       'Month_Dec', 'Month_Feb', 'Month_Jul', 'Month_June', 'Month_Mar',\n",
       "       'Month_May', 'Month_Nov', 'Month_Oct', 'Month_Sep',\n",
       "       'OperatingSystems_1', 'OperatingSystems_2', 'OperatingSystems_3',\n",
       "       'OperatingSystems_4', 'OperatingSystems_5', 'OperatingSystems_6',\n",
       "       'OperatingSystems_7', 'OperatingSystems_8', 'Region_1', 'Region_2',\n",
       "       'Region_3', 'Region_4', 'Region_5', 'Region_6', 'Region_7',\n",
       "       'Region_8', 'Region_9', 'VisitorType_New_Visitor',\n",
       "       'VisitorType_Other', 'VisitorType_Returning_Visitor', 'Weekend_0',\n",
       "       'Weekend_1'], dtype=object)"
      ]
     },
     "execution_count": 23,
     "metadata": {},
     "output_type": "execute_result"
    }
   ],
   "source": [
    "# delete ID\n",
    "feature_names = train_df.columns.values[1:]\n",
    "\n",
    "# delete revenue\n",
    "revenue_index = np.argwhere(feature_names == 'Revenue')\n",
    "feature_names = np.delete(feature_names, revenue_index)\n",
    "feature_names"
   ]
  },
  {
   "cell_type": "code",
   "execution_count": 24,
   "metadata": {
    "id": "9ePxMZIK1Pmm"
   },
   "outputs": [],
   "source": [
    "X = train_df[feature_names]"
   ]
  },
  {
   "cell_type": "code",
   "execution_count": 25,
   "metadata": {
    "id": "MIbM_Kt7qbs3"
   },
   "outputs": [],
   "source": [
    "Y = train_df[['Revenue']]"
   ]
  },
  {
   "cell_type": "markdown",
   "metadata": {},
   "source": [
    "### Now, let's create XGBoost model."
   ]
  },
  {
   "cell_type": "code",
   "execution_count": 26,
   "metadata": {
    "colab": {
     "base_uri": "https://localhost:8080/",
     "height": 1000
    },
    "id": "BVpuqzTK0L2G",
    "outputId": "b13177fa-e81b-4d3d-8112-6296bae8c0ef"
   },
   "outputs": [
    {
     "name": "stdout",
     "output_type": "stream",
     "text": [
      "KFold(n_splits=10, random_state=None, shuffle=True)\n",
      "new fold\n",
      "fitting\n",
      "Fitting 5 folds for each of 100 candidates, totalling 500 fits\n"
     ]
    },
    {
     "name": "stderr",
     "output_type": "stream",
     "text": [
      "[Parallel(n_jobs=-1)]: Using backend LokyBackend with 8 concurrent workers.\n",
      "[Parallel(n_jobs=-1)]: Done  16 tasks      | elapsed:    6.5s\n",
      "[Parallel(n_jobs=-1)]: Done 112 tasks      | elapsed:   30.8s\n",
      "[Parallel(n_jobs=-1)]: Done 272 tasks      | elapsed:  1.2min\n",
      "[Parallel(n_jobs=-1)]: Done 500 out of 500 | elapsed:  1.9min finished\n"
     ]
    },
    {
     "name": "stdout",
     "output_type": "stream",
     "text": [
      "XGBClassifier(colsample_bytree=0.9, eta=0.001, gamma=5, subsample=0.9)\n",
      "score 0.7941606810321894\n",
      "new fold\n",
      "fitting\n",
      "Fitting 5 folds for each of 100 candidates, totalling 500 fits\n"
     ]
    },
    {
     "name": "stderr",
     "output_type": "stream",
     "text": [
      "[Parallel(n_jobs=-1)]: Using backend LokyBackend with 8 concurrent workers.\n",
      "[Parallel(n_jobs=-1)]: Done  16 tasks      | elapsed:    4.6s\n",
      "[Parallel(n_jobs=-1)]: Done 112 tasks      | elapsed:   26.4s\n",
      "[Parallel(n_jobs=-1)]: Done 272 tasks      | elapsed:  1.0min\n",
      "[Parallel(n_jobs=-1)]: Done 500 out of 500 | elapsed:  1.8min finished\n"
     ]
    },
    {
     "name": "stdout",
     "output_type": "stream",
     "text": [
      "XGBClassifier(colsample_bytree=0.8, eta=0.0001, gamma=5, max_depth=4,\n",
      "              subsample=0.9)\n",
      "score 0.790292732166891\n",
      "new fold\n",
      "fitting\n",
      "Fitting 5 folds for each of 100 candidates, totalling 500 fits\n"
     ]
    },
    {
     "name": "stderr",
     "output_type": "stream",
     "text": [
      "[Parallel(n_jobs=-1)]: Using backend LokyBackend with 8 concurrent workers.\n",
      "[Parallel(n_jobs=-1)]: Done  16 tasks      | elapsed:    3.9s\n",
      "[Parallel(n_jobs=-1)]: Done 112 tasks      | elapsed:   26.1s\n",
      "[Parallel(n_jobs=-1)]: Done 272 tasks      | elapsed:  1.1min\n",
      "[Parallel(n_jobs=-1)]: Done 500 out of 500 | elapsed:  1.9min finished\n"
     ]
    },
    {
     "name": "stdout",
     "output_type": "stream",
     "text": [
      "XGBClassifier(colsample_bytree=0.8, eta=0.001, gamma=5, max_depth=4,\n",
      "              subsample=0.8)\n",
      "score 0.7986656671664168\n",
      "new fold\n",
      "fitting\n",
      "Fitting 5 folds for each of 100 candidates, totalling 500 fits\n"
     ]
    },
    {
     "name": "stderr",
     "output_type": "stream",
     "text": [
      "[Parallel(n_jobs=-1)]: Using backend LokyBackend with 8 concurrent workers.\n",
      "[Parallel(n_jobs=-1)]: Done  16 tasks      | elapsed:    5.0s\n",
      "[Parallel(n_jobs=-1)]: Done 112 tasks      | elapsed:   28.8s\n",
      "[Parallel(n_jobs=-1)]: Done 272 tasks      | elapsed:  1.0min\n",
      "[Parallel(n_jobs=-1)]: Done 500 out of 500 | elapsed:  1.9min finished\n"
     ]
    },
    {
     "name": "stdout",
     "output_type": "stream",
     "text": [
      "XGBClassifier(colsample_bytree=0.8, eta=0.0001, gamma=5, max_depth=4,\n",
      "              min_child_weight=4, subsample=0.9)\n",
      "score 0.7725880466017687\n",
      "new fold\n",
      "fitting\n",
      "Fitting 5 folds for each of 100 candidates, totalling 500 fits\n"
     ]
    },
    {
     "name": "stderr",
     "output_type": "stream",
     "text": [
      "[Parallel(n_jobs=-1)]: Using backend LokyBackend with 8 concurrent workers.\n",
      "[Parallel(n_jobs=-1)]: Done  16 tasks      | elapsed:    4.2s\n",
      "[Parallel(n_jobs=-1)]: Done 112 tasks      | elapsed:   27.1s\n",
      "[Parallel(n_jobs=-1)]: Done 272 tasks      | elapsed:  1.0min\n",
      "[Parallel(n_jobs=-1)]: Done 500 out of 500 | elapsed:  1.9min finished\n"
     ]
    },
    {
     "name": "stdout",
     "output_type": "stream",
     "text": [
      "XGBClassifier(colsample_bytree=0.7, eta=0.1, gamma=5, max_depth=6,\n",
      "              subsample=0.9)\n",
      "score 0.7759919525089767\n",
      "new fold\n",
      "fitting\n",
      "Fitting 5 folds for each of 100 candidates, totalling 500 fits\n"
     ]
    },
    {
     "name": "stderr",
     "output_type": "stream",
     "text": [
      "[Parallel(n_jobs=-1)]: Using backend LokyBackend with 8 concurrent workers.\n",
      "[Parallel(n_jobs=-1)]: Done  16 tasks      | elapsed:    4.2s\n",
      "[Parallel(n_jobs=-1)]: Done 112 tasks      | elapsed:   25.8s\n",
      "[Parallel(n_jobs=-1)]: Done 272 tasks      | elapsed:   58.4s\n",
      "[Parallel(n_jobs=-1)]: Done 500 out of 500 | elapsed:  1.9min finished\n"
     ]
    },
    {
     "name": "stdout",
     "output_type": "stream",
     "text": [
      "XGBClassifier(colsample_bytree=0.8, eta=0.1, gamma=5, max_depth=6,\n",
      "              min_child_weight=2, subsample=0.9)\n",
      "score 0.7430383346604482\n",
      "new fold\n",
      "fitting\n",
      "Fitting 5 folds for each of 100 candidates, totalling 500 fits\n"
     ]
    },
    {
     "name": "stderr",
     "output_type": "stream",
     "text": [
      "[Parallel(n_jobs=-1)]: Using backend LokyBackend with 8 concurrent workers.\n",
      "[Parallel(n_jobs=-1)]: Done  16 tasks      | elapsed:    5.6s\n",
      "[Parallel(n_jobs=-1)]: Done 112 tasks      | elapsed:   30.2s\n",
      "[Parallel(n_jobs=-1)]: Done 272 tasks      | elapsed:  1.1min\n",
      "[Parallel(n_jobs=-1)]: Done 500 out of 500 | elapsed:  1.9min finished\n"
     ]
    },
    {
     "name": "stdout",
     "output_type": "stream",
     "text": [
      "XGBClassifier(colsample_bytree=0.7, eta=0.1, gamma=3, max_depth=4,\n",
      "              min_child_weight=2, subsample=0.9)\n",
      "score 0.7507251153592617\n",
      "new fold\n",
      "fitting\n",
      "Fitting 5 folds for each of 100 candidates, totalling 500 fits\n"
     ]
    },
    {
     "name": "stderr",
     "output_type": "stream",
     "text": [
      "[Parallel(n_jobs=-1)]: Using backend LokyBackend with 8 concurrent workers.\n",
      "[Parallel(n_jobs=-1)]: Done  16 tasks      | elapsed:    4.8s\n",
      "[Parallel(n_jobs=-1)]: Done 112 tasks      | elapsed:   26.0s\n",
      "[Parallel(n_jobs=-1)]: Done 272 tasks      | elapsed:  1.0min\n",
      "[Parallel(n_jobs=-1)]: Done 500 out of 500 | elapsed:  2.0min finished\n"
     ]
    },
    {
     "name": "stdout",
     "output_type": "stream",
     "text": [
      "XGBClassifier(colsample_bytree=0.7, eta=0.0001, gamma=3, max_depth=4,\n",
      "              min_child_weight=3, subsample=0.9)\n",
      "score 0.7959540732640787\n",
      "new fold\n",
      "fitting\n",
      "Fitting 5 folds for each of 100 candidates, totalling 500 fits\n"
     ]
    },
    {
     "name": "stderr",
     "output_type": "stream",
     "text": [
      "[Parallel(n_jobs=-1)]: Using backend LokyBackend with 8 concurrent workers.\n",
      "[Parallel(n_jobs=-1)]: Done  16 tasks      | elapsed:    4.6s\n",
      "[Parallel(n_jobs=-1)]: Done 112 tasks      | elapsed:   26.4s\n",
      "[Parallel(n_jobs=-1)]: Done 272 tasks      | elapsed:  1.1min\n",
      "[Parallel(n_jobs=-1)]: Done 500 out of 500 | elapsed:  2.0min finished\n"
     ]
    },
    {
     "name": "stdout",
     "output_type": "stream",
     "text": [
      "XGBClassifier(colsample_bytree=0.8, eta=0.001, gamma=5, min_child_weight=3,\n",
      "              subsample=0.9)\n",
      "score 0.7797744890768146\n",
      "new fold\n",
      "fitting\n",
      "Fitting 5 folds for each of 100 candidates, totalling 500 fits\n"
     ]
    },
    {
     "name": "stderr",
     "output_type": "stream",
     "text": [
      "[Parallel(n_jobs=-1)]: Using backend LokyBackend with 8 concurrent workers.\n",
      "[Parallel(n_jobs=-1)]: Done  16 tasks      | elapsed:    4.3s\n",
      "[Parallel(n_jobs=-1)]: Done 112 tasks      | elapsed:   29.6s\n",
      "[Parallel(n_jobs=-1)]: Done 272 tasks      | elapsed:  1.1min\n",
      "[Parallel(n_jobs=-1)]: Done 500 out of 500 | elapsed:  1.9min finished\n"
     ]
    },
    {
     "name": "stdout",
     "output_type": "stream",
     "text": [
      "XGBClassifier(colsample_bytree=0.7, eta=0.001, gamma=3, min_child_weight=4,\n",
      "              subsample=0.9)\n",
      "score 0.7895095813872278\n"
     ]
    }
   ],
   "source": [
    "clf_xgb = XGBClassifier(objective = 'binary:logistic')\n",
    "\n",
    "param_dist = {'n_estimators': [100],\n",
    "              'subsample': [0.7,0.8,0.9],\n",
    "              'max_depth': [3, 4, 6, 8],\n",
    "              'colsample_bytree': [0.7,0.8,0.9],\n",
    "              'min_child_weight': [1,2,3,4],\n",
    "              'gamma': [1,3,5],\n",
    "              'eta': [0.0001,0.001,0.1]\n",
    "             }\n",
    "\n",
    "\n",
    "clf = RandomizedSearchCV(clf_xgb, param_distributions = param_dist, n_iter = 100, scoring = 'roc_auc', error_score = 0, verbose = 3, n_jobs = -1)\n",
    "\n",
    "numFolds = 10\n",
    "folds = KFold(n_splits = numFolds, shuffle = True)\n",
    "print(folds)\n",
    "\n",
    "estimators = []\n",
    "results = np.zeros(len(X))\n",
    "score = 0.0\n",
    "for train_index, val_index in folds.split(X):\n",
    "    print(\"new fold\")\n",
    "    X_train, X_val = X.iloc[train_index,:], X.iloc[val_index,:]\n",
    "    y_train, y_val = Y.iloc[train_index].values.ravel(), Y.iloc[val_index].values.ravel()\n",
    "    print(\"fitting\")\n",
    "    clf.fit(X_train, y_train)\n",
    "\n",
    "    estimators.append(clf.best_estimator_)\n",
    "    print(clf.best_estimator_)\n",
    "    results[val_index] = clf.predict(X_val)\n",
    "    auc_score = roc_auc_score(y_val, results[val_index])\n",
    "    score += auc_score\n",
    "    print(\"score\",auc_score)\n",
    "score /= numFolds"
   ]
  },
  {
   "cell_type": "markdown",
   "metadata": {},
   "source": [
    "### Let's pick the best model with the highest AUC."
   ]
  },
  {
   "cell_type": "code",
   "execution_count": 27,
   "metadata": {
    "id": "rUS4x-xTKeHW"
   },
   "outputs": [],
   "source": [
    "model = estimators[2]"
   ]
  },
  {
   "cell_type": "code",
   "execution_count": 28,
   "metadata": {
    "colab": {
     "base_uri": "https://localhost:8080/",
     "height": 136
    },
    "id": "wP9_Te10bmsW",
    "outputId": "3c8947c0-8907-4c11-d5e6-21175849ea09"
   },
   "outputs": [
    {
     "data": {
      "text/plain": [
       "XGBClassifier(colsample_bytree=0.8, eta=0.001, gamma=5, max_depth=4,\n",
       "              subsample=0.8)"
      ]
     },
     "execution_count": 28,
     "metadata": {},
     "output_type": "execute_result"
    }
   ],
   "source": [
    "model"
   ]
  },
  {
   "cell_type": "markdown",
   "metadata": {},
   "source": [
    "### Before we make predictions on test set data, let's plot feature importance."
   ]
  },
  {
   "cell_type": "code",
   "execution_count": 29,
   "metadata": {},
   "outputs": [
    {
     "data": {
      "image/png": "[encoded data removed]",
      "text/plain": [
       "<Figure size 720x720 with 1 Axes>"
      ]
     },
     "metadata": {},
     "output_type": "display_data"
    }
   ],
   "source": [
    "ax = xgboost.plot_importance(model, max_num_features=20)\n",
    "fig = ax.figure\n",
    "fig.set_size_inches(10, 10)"
   ]
  },
  {
   "cell_type": "markdown",
   "metadata": {},
   "source": [
    "### We can see that feature such as PageValues, ProductRelated_Duration, ExitRate, Administrative_Duration, BounceRates and ProdutRelated are important features."
   ]
  },
  {
   "cell_type": "markdown",
   "metadata": {},
   "source": [
    "### Now, make predictions with test_df (test set data)."
   ]
  },
  {
   "cell_type": "code",
   "execution_count": 30,
   "metadata": {
    "id": "fuQGlpJu7HVu"
   },
   "outputs": [],
   "source": [
    "feature_names = list(X.columns)\n",
    "pred = model.predict(test_df[feature_names])"
   ]
  },
  {
   "cell_type": "code",
   "execution_count": 31,
   "metadata": {
    "colab": {
     "base_uri": "https://localhost:8080/",
     "height": 34
    },
    "id": "bMVdceS66ALi",
    "outputId": "eece159d-0e7b-48e7-ba4e-c31bc338b1ce"
   },
   "outputs": [
    {
     "data": {
      "text/plain": [
       "{0: 3222, 1: 478}"
      ]
     },
     "execution_count": 31,
     "metadata": {},
     "output_type": "execute_result"
    }
   ],
   "source": [
    "unique, counts = np.unique(pred, return_counts=True)\n",
    "dict(zip(unique, counts))"
   ]
  },
  {
   "cell_type": "code",
   "execution_count": 32,
   "metadata": {
    "id": "c3gPe2N_K6NY"
   },
   "outputs": [],
   "source": [
    "pred = model.predict_proba(test_df[feature_names])[:,1]"
   ]
  },
  {
   "cell_type": "code",
   "execution_count": 33,
   "metadata": {
    "colab": {
     "base_uri": "https://localhost:8080/",
     "height": 1000
    },
    "id": "sCUlrOpLK-ut",
    "outputId": "a32aa41a-5b85-406c-8486-93cc70c3b970"
   },
   "outputs": [
    {
     "data": {
      "text/html": [
       "<div>\n",
       "<style scoped>\n",
       "    .dataframe tbody tr th:only-of-type {\n",
       "        vertical-align: middle;\n",
       "    }\n",
       "\n",
       "    .dataframe tbody tr th {\n",
       "        vertical-align: top;\n",
       "    }\n",
       "\n",
       "    .dataframe thead th {\n",
       "        text-align: right;\n",
       "    }\n",
       "</style>\n",
       "<table border=\"1\" class=\"dataframe\">\n",
       "  <thead>\n",
       "    <tr style=\"text-align: right;\">\n",
       "      <th></th>\n",
       "      <th>ID</th>\n",
       "      <th>Revenue</th>\n",
       "    </tr>\n",
       "  </thead>\n",
       "  <tbody>\n",
       "    <tr>\n",
       "      <th>0</th>\n",
       "      <td>2762</td>\n",
       "      <td>0.029074</td>\n",
       "    </tr>\n",
       "    <tr>\n",
       "      <th>1</th>\n",
       "      <td>308</td>\n",
       "      <td>0.611640</td>\n",
       "    </tr>\n",
       "    <tr>\n",
       "      <th>2</th>\n",
       "      <td>1018</td>\n",
       "      <td>0.006967</td>\n",
       "    </tr>\n",
       "    <tr>\n",
       "      <th>3</th>\n",
       "      <td>426</td>\n",
       "      <td>0.001786</td>\n",
       "    </tr>\n",
       "    <tr>\n",
       "      <th>4</th>\n",
       "      <td>2754</td>\n",
       "      <td>0.010653</td>\n",
       "    </tr>\n",
       "    <tr>\n",
       "      <th>5</th>\n",
       "      <td>1663</td>\n",
       "      <td>0.003822</td>\n",
       "    </tr>\n",
       "    <tr>\n",
       "      <th>6</th>\n",
       "      <td>3473</td>\n",
       "      <td>0.003352</td>\n",
       "    </tr>\n",
       "    <tr>\n",
       "      <th>7</th>\n",
       "      <td>2060</td>\n",
       "      <td>0.027945</td>\n",
       "    </tr>\n",
       "    <tr>\n",
       "      <th>8</th>\n",
       "      <td>2445</td>\n",
       "      <td>0.002819</td>\n",
       "    </tr>\n",
       "    <tr>\n",
       "      <th>9</th>\n",
       "      <td>882</td>\n",
       "      <td>0.008772</td>\n",
       "    </tr>\n",
       "    <tr>\n",
       "      <th>10</th>\n",
       "      <td>3283</td>\n",
       "      <td>0.005549</td>\n",
       "    </tr>\n",
       "    <tr>\n",
       "      <th>11</th>\n",
       "      <td>625</td>\n",
       "      <td>0.008220</td>\n",
       "    </tr>\n",
       "    <tr>\n",
       "      <th>12</th>\n",
       "      <td>1873</td>\n",
       "      <td>0.003904</td>\n",
       "    </tr>\n",
       "    <tr>\n",
       "      <th>13</th>\n",
       "      <td>1395</td>\n",
       "      <td>0.248384</td>\n",
       "    </tr>\n",
       "    <tr>\n",
       "      <th>14</th>\n",
       "      <td>1961</td>\n",
       "      <td>0.007330</td>\n",
       "    </tr>\n",
       "    <tr>\n",
       "      <th>15</th>\n",
       "      <td>3146</td>\n",
       "      <td>0.013649</td>\n",
       "    </tr>\n",
       "    <tr>\n",
       "      <th>16</th>\n",
       "      <td>1605</td>\n",
       "      <td>0.016210</td>\n",
       "    </tr>\n",
       "    <tr>\n",
       "      <th>17</th>\n",
       "      <td>337</td>\n",
       "      <td>0.034553</td>\n",
       "    </tr>\n",
       "    <tr>\n",
       "      <th>18</th>\n",
       "      <td>3454</td>\n",
       "      <td>0.492859</td>\n",
       "    </tr>\n",
       "    <tr>\n",
       "      <th>19</th>\n",
       "      <td>313</td>\n",
       "      <td>0.065379</td>\n",
       "    </tr>\n",
       "  </tbody>\n",
       "</table>\n",
       "</div>"
      ],
      "text/plain": [
       "      ID   Revenue\n",
       "0   2762  0.029074\n",
       "1    308  0.611640\n",
       "2   1018  0.006967\n",
       "3    426  0.001786\n",
       "4   2754  0.010653\n",
       "5   1663  0.003822\n",
       "6   3473  0.003352\n",
       "7   2060  0.027945\n",
       "8   2445  0.002819\n",
       "9    882  0.008772\n",
       "10  3283  0.005549\n",
       "11   625  0.008220\n",
       "12  1873  0.003904\n",
       "13  1395  0.248384\n",
       "14  1961  0.007330\n",
       "15  3146  0.013649\n",
       "16  1605  0.016210\n",
       "17   337  0.034553\n",
       "18  3454  0.492859\n",
       "19   313  0.065379"
      ]
     },
     "execution_count": 33,
     "metadata": {},
     "output_type": "execute_result"
    }
   ],
   "source": [
    "submission = pd.DataFrame({'ID':test_df['ID'],'Revenue':pred})\n",
    "\n",
    "submission.head(20)"
   ]
  },
  {
   "cell_type": "code",
   "execution_count": 34,
   "metadata": {
    "colab": {
     "base_uri": "https://localhost:8080/",
     "height": 34
    },
    "id": "N-26ZZbdMAhi",
    "outputId": "7e60e993-f2df-4588-9d8a-cad77a142077"
   },
   "outputs": [
    {
     "name": "stdout",
     "output_type": "stream",
     "text": [
      "Saved file: Predictions24.csv\n"
     ]
    }
   ],
   "source": [
    "filename = 'Predictions24.csv'\n",
    "\n",
    "submission.to_csv(filename,index=False)\n",
    "\n",
    "\n",
    "print('Saved file: ' + filename)"
   ]
  }
 ],
 "metadata": {
  "colab": {
   "collapsed_sections": [],
   "name": "Stat441_DataChallenge1.ipynb",
   "provenance": []
  },
  "kernelspec": {
   "display_name": "Python 3",
   "language": "python",
   "name": "python3"
  },
  "language_info": {
   "codemirror_mode": {
    "name": "ipython",
    "version": 3
   },
   "file_extension": ".py",
   "mimetype": "text/x-python",
   "name": "python",
   "nbconvert_exporter": "python",
   "pygments_lexer": "ipython3",
   "version": "3.7.9"
  }
 },
 "nbformat": 4,
 "nbformat_minor": 1
}
